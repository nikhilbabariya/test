{
 "cells": [
  {
   "cell_type": "code",
   "execution_count": 2,
   "id": "38a0b97a",
   "metadata": {},
   "outputs": [],
   "source": [
    "#import numpy\n",
    "\n",
    "import numpy as np"
   ]
  },
  {
   "cell_type": "code",
   "execution_count": 2,
   "id": "87587898",
   "metadata": {},
   "outputs": [
    {
     "data": {
      "text/plain": [
       "array([[1, 2, 3, 4],\n",
       "       [5, 6, 7, 8]])"
      ]
     },
     "execution_count": 2,
     "metadata": {},
     "output_type": "execute_result"
    }
   ],
   "source": [
    "#create simple using list\n",
    "\n",
    "arr = np.array([[1,2,3,4],[5,6,7,8]])\n",
    "arr"
   ]
  },
  {
   "cell_type": "code",
   "execution_count": 3,
   "id": "0656d01b",
   "metadata": {},
   "outputs": [
    {
     "name": "stdout",
     "output_type": "stream",
     "text": [
      "2\n"
     ]
    }
   ],
   "source": [
    "#dimention of array\n",
    "\n",
    "print(arr.ndim)"
   ]
  },
  {
   "cell_type": "code",
   "execution_count": 7,
   "id": "f11bda48",
   "metadata": {},
   "outputs": [
    {
     "name": "stdout",
     "output_type": "stream",
     "text": [
      "(2, 4)\n"
     ]
    }
   ],
   "source": [
    "#shape of array\n",
    "\n",
    "print(arr.shape)"
   ]
  },
  {
   "cell_type": "code",
   "execution_count": 9,
   "id": "db38fe72",
   "metadata": {},
   "outputs": [
    {
     "name": "stdout",
     "output_type": "stream",
     "text": [
      "<class 'numpy.ndarray'>\n"
     ]
    }
   ],
   "source": [
    "#data type\n",
    "\n",
    "print(type(arr))"
   ]
  },
  {
   "cell_type": "code",
   "execution_count": 10,
   "id": "e2913673",
   "metadata": {},
   "outputs": [
    {
     "name": "stdout",
     "output_type": "stream",
     "text": [
      "<memory at 0x0000024E8A9BC450>\n"
     ]
    }
   ],
   "source": [
    "print(arr.data)"
   ]
  },
  {
   "cell_type": "markdown",
   "id": "8b94c8da",
   "metadata": {},
   "source": [
    "# Statistical Functions"
   ]
  },
  {
   "cell_type": "code",
   "execution_count": 14,
   "id": "5b144781",
   "metadata": {},
   "outputs": [
    {
     "name": "stdout",
     "output_type": "stream",
     "text": [
      "[[ 1  2  3  4]\n",
      " [ 5  6  7  8]\n",
      " [ 9 10 11 12]] \n",
      "\n"
     ]
    }
   ],
   "source": [
    "b = np.array([[1,2,3,4],[5,6,7,8],[9,10,11,12]])\n",
    "b\n",
    "print(b,\"\\n\")"
   ]
  },
  {
   "cell_type": "code",
   "execution_count": 16,
   "id": "11777d2b",
   "metadata": {},
   "outputs": [
    {
     "data": {
      "text/plain": [
       "dtype('int32')"
      ]
     },
     "execution_count": 16,
     "metadata": {},
     "output_type": "execute_result"
    }
   ],
   "source": [
    "b.dtype"
   ]
  },
  {
   "cell_type": "code",
   "execution_count": 17,
   "id": "506a65da",
   "metadata": {},
   "outputs": [
    {
     "data": {
      "text/plain": [
       "4"
      ]
     },
     "execution_count": 17,
     "metadata": {},
     "output_type": "execute_result"
    }
   ],
   "source": [
    "b.itemsize"
   ]
  },
  {
   "cell_type": "code",
   "execution_count": 18,
   "id": "402c81ca",
   "metadata": {},
   "outputs": [
    {
     "data": {
      "text/plain": [
       "12"
      ]
     },
     "execution_count": 18,
     "metadata": {},
     "output_type": "execute_result"
    }
   ],
   "source": [
    "b.size"
   ]
  },
  {
   "cell_type": "code",
   "execution_count": 19,
   "id": "ccb943f9",
   "metadata": {},
   "outputs": [
    {
     "data": {
      "text/plain": [
       "(3, 4)"
      ]
     },
     "execution_count": 19,
     "metadata": {},
     "output_type": "execute_result"
    }
   ],
   "source": [
    "b.shape"
   ]
  },
  {
   "cell_type": "code",
   "execution_count": 3,
   "id": "b6b27acc",
   "metadata": {},
   "outputs": [
    {
     "name": "stdout",
     "output_type": "stream",
     "text": [
      "[[20. 21. 22.]\n",
      " [25. 26. 27.]\n",
      " [30. 31. 32.]] \n",
      "\n",
      "float64 \n",
      "\n",
      "8 \n",
      "\n"
     ]
    }
   ],
   "source": [
    "b = np.array([[20,21,22],[25,26,27],[30,31,32]], dtype=np.float64)\n",
    "print(b,\"\\n\")\n",
    "print(b.dtype,\"\\n\")\n",
    "print(b.itemsize,\"\\n\")"
   ]
  },
  {
   "cell_type": "code",
   "execution_count": 4,
   "id": "50c4e93f",
   "metadata": {},
   "outputs": [
    {
     "name": "stdout",
     "output_type": "stream",
     "text": [
      "[[20.+0.j 21.+0.j 22.+0.j]\n",
      " [25.+0.j 26.+0.j 27.+0.j]\n",
      " [30.+0.j 31.+0.j 32.+0.j]] \n",
      "\n",
      "complex64 \n",
      "\n",
      "8 \n",
      "\n"
     ]
    }
   ],
   "source": [
    "z = np.array([[20,21,22],[25,26,27],[30,31,32]], dtype=np.complex64)\n",
    "print(z,\"\\n\")\n",
    "print(z.dtype,\"\\n\")\n",
    "print(z.itemsize,\"\\n\")"
   ]
  },
  {
   "cell_type": "code",
   "execution_count": 5,
   "id": "412e89af",
   "metadata": {},
   "outputs": [
    {
     "name": "stdout",
     "output_type": "stream",
     "text": [
      "[[20. 21. 22.]\n",
      " [25. 26. 27.]\n",
      " [30. 31. 32.]] \n",
      "\n",
      "float64 \n",
      "\n",
      "8 \n",
      "\n"
     ]
    }
   ],
   "source": [
    "t = np.array([[20,21,22],[25,26,27],[30,31,32]], dtype=np.float64)\n",
    "print(t,\"\\n\")\n",
    "print(t.dtype,\"\\n\")\n",
    "print(t.itemsize,\"\\n\")"
   ]
  },
  {
   "cell_type": "markdown",
   "id": "1c44e0de",
   "metadata": {},
   "source": [
    "# stacking"
   ]
  },
  {
   "cell_type": "code",
   "execution_count": 3,
   "id": "39950aca",
   "metadata": {},
   "outputs": [
    {
     "name": "stdout",
     "output_type": "stream",
     "text": [
      "[[ 0  1  2  3]\n",
      " [ 4  5  6  7]\n",
      " [ 8  9 10 11]] \n",
      "\n",
      "[[ 0  1  2  3]\n",
      " [ 4  5  6  7]\n",
      " [ 8  9 10 11]] \n",
      "\n"
     ]
    }
   ],
   "source": [
    "d=np.arange(12).reshape(3,4)\n",
    "print(d,\"\\n\")\n",
    "f=np.arange(12).reshape(3,4)\n",
    "print(f,\"\\n\")"
   ]
  },
  {
   "cell_type": "code",
   "execution_count": 7,
   "id": "2e95c81c",
   "metadata": {},
   "outputs": [
    {
     "name": "stdout",
     "output_type": "stream",
     "text": [
      "[[ 0  1  2  3]\n",
      " [ 4  5  6  7]\n",
      " [ 8  9 10 11]] \n",
      "\n",
      "[[ 0  1  2  3]\n",
      " [ 4  5  6  7]\n",
      " [ 8  9 10 11]] \n",
      "\n",
      "[[ 0  1  2  3  0  1  2  3]\n",
      " [ 4  5  6  7  4  5  6  7]\n",
      " [ 8  9 10 11  8  9 10 11]] \n",
      "\n",
      "[[ 0  1  2  3  0  1  2  3]\n",
      " [ 4  5  6  7  4  5  6  7]\n",
      " [ 8  9 10 11  8  9 10 11]] \n",
      "\n"
     ]
    }
   ],
   "source": [
    "d=np.arange(12).reshape(3,4)\n",
    "print(d,\"\\n\")\n",
    "f=np.arange(12).reshape(3,4)\n",
    "print(f,\"\\n\")\n",
    "print(np.hstack((d,f)),'\\n')\n",
    "print(np.hstack((f,d)),'\\n')"
   ]
  },
  {
   "cell_type": "code",
   "execution_count": 6,
   "id": "38a438c8",
   "metadata": {},
   "outputs": [
    {
     "name": "stdout",
     "output_type": "stream",
     "text": [
      "[[ 0  1  2  3]\n",
      " [ 4  5  6  7]\n",
      " [ 8  9 10 11]] \n",
      "\n",
      "[[ 0  1  2  3]\n",
      " [ 4  5  6  7]\n",
      " [ 8  9 10 11]] \n",
      "\n",
      "[[ 0  1  2  3]\n",
      " [ 4  5  6  7]\n",
      " [ 8  9 10 11]\n",
      " [ 0  1  2  3]\n",
      " [ 4  5  6  7]\n",
      " [ 8  9 10 11]] \n",
      "\n",
      "[[ 0  1  2  3]\n",
      " [ 4  5  6  7]\n",
      " [ 8  9 10 11]\n",
      " [ 0  1  2  3]\n",
      " [ 4  5  6  7]\n",
      " [ 8  9 10 11]] \n",
      "\n"
     ]
    }
   ],
   "source": [
    "d=np.arange(12).reshape(3,4)\n",
    "print(d,\"\\n\")\n",
    "f=np.arange(12).reshape(3,4)\n",
    "print(f,\"\\n\")\n",
    "print(np.vstack((d,f)),'\\n')\n",
    "print(np.vstack((f,d)),'\\n')"
   ]
  },
  {
   "cell_type": "markdown",
   "id": "e5c4b716",
   "metadata": {},
   "source": [
    "# mathematical operation"
   ]
  },
  {
   "cell_type": "code",
   "execution_count": 8,
   "id": "e328f185",
   "metadata": {},
   "outputs": [
    {
     "name": "stdout",
     "output_type": "stream",
     "text": [
      "[ 2  8 10 35 55 60] \n",
      "\n",
      "[ 2  8 10 35 55 60] \n",
      "\n",
      "[  4  16  20  70 110 120] \n",
      "\n",
      "[0 0 0 0 0 0] \n",
      "\n",
      "[   4   64  100 1225 3025 3600] \n",
      "\n",
      "[1. 1. 1. 1. 1. 1.] \n",
      "\n",
      "[1 1 1 1 1 1] \n",
      "\n"
     ]
    }
   ],
   "source": [
    "x=np.array([2,8,10,35,55,60])\n",
    "y=np.array([2,8,10,35,55,60])\n",
    "print(x,\"\\n\")\n",
    "print(y,\"\\n\")\n",
    "print(x+y,\"\\n\")\n",
    "print(x-y,\"\\n\")\n",
    "print(x*y,\"\\n\")\n",
    "print(x/y,\"\\n\")\n",
    "print(x//y,\"\\n\")"
   ]
  },
  {
   "cell_type": "code",
   "execution_count": 10,
   "id": "fdb8ead6",
   "metadata": {},
   "outputs": [
    {
     "name": "stdout",
     "output_type": "stream",
     "text": [
      "[[0. 0. 0.]\n",
      " [0. 0. 0.]\n",
      " [0. 0. 0.]\n",
      " [0. 0. 0.]] \n",
      "\n",
      "[[1. 1. 1.]\n",
      " [1. 1. 1.]\n",
      " [1. 1. 1.]\n",
      " [1. 1. 1.]] \n",
      "\n"
     ]
    }
   ],
   "source": [
    "print(np.zeros((4,3)),\"\\n\")\n",
    "print(np.ones((4,3)),\"\\n\")"
   ]
  },
  {
   "cell_type": "markdown",
   "id": "b1d99812",
   "metadata": {},
   "source": [
    "# randon number generatoer using numpy"
   ]
  },
  {
   "cell_type": "code",
   "execution_count": 13,
   "id": "54bde706",
   "metadata": {},
   "outputs": [
    {
     "name": "stdout",
     "output_type": "stream",
     "text": [
      "92\n"
     ]
    }
   ],
   "source": [
    "from numpy import random\n",
    "x=random.randint(100)\n",
    "print(x)"
   ]
  },
  {
   "cell_type": "code",
   "execution_count": 17,
   "id": "c2f93ed4",
   "metadata": {},
   "outputs": [
    {
     "name": "stdout",
     "output_type": "stream",
     "text": [
      "[0.4607498  0.03727833 0.89250727 0.67260407 0.41149458 0.5771799\n",
      " 0.69713823 0.33506373 0.25642563 0.14959942]\n"
     ]
    }
   ],
   "source": [
    "#generating random float\n",
    "\n",
    "x=random.rand(10)\n",
    "print(x)"
   ]
  },
  {
   "cell_type": "code",
   "execution_count": 18,
   "id": "65360be9",
   "metadata": {},
   "outputs": [
    {
     "name": "stdout",
     "output_type": "stream",
     "text": [
      "[51 67 77 45 65  4  1 22  2 33 18 50 61  0 26]\n"
     ]
    }
   ],
   "source": [
    "#generating radon array\n",
    "\n",
    "x=random.randint(100,size=(15))\n",
    "print(x)"
   ]
  },
  {
   "cell_type": "markdown",
   "id": "7010ec72",
   "metadata": {},
   "source": [
    "# 2.4 practical : creating scalers in numpy"
   ]
  },
  {
   "cell_type": "code",
   "execution_count": 20,
   "id": "9fdc4a4a",
   "metadata": {},
   "outputs": [
    {
     "name": "stdout",
     "output_type": "stream",
     "text": [
      "input array is  [8]\n",
      "output scaler from input array  8\n"
     ]
    },
    {
     "name": "stderr",
     "output_type": "stream",
     "text": [
      "C:\\Users\\Sap\\AppData\\Local\\Temp/ipykernel_3196/131558040.py:7: DeprecationWarning: np.asscalar(a) is deprecated since NumPy v1.16, use a.item() instead\n",
      "  out_scaler=np.asscalar(in_arr)\n"
     ]
    }
   ],
   "source": [
    "import numpy as np\n",
    "\n",
    "in_arr=np.array([8])\n",
    "\n",
    "print(\"input array is \",in_arr )\n",
    "          \n",
    "out_scaler=np.asscalar(in_arr)\n",
    "print(\"output scaler from input array \",out_scaler)"
   ]
  },
  {
   "cell_type": "markdown",
   "id": "f5796900",
   "metadata": {},
   "source": [
    "# vector in numpy"
   ]
  },
  {
   "cell_type": "code",
   "execution_count": 25,
   "id": "5dd0525b",
   "metadata": {},
   "outputs": [
    {
     "name": "stdout",
     "output_type": "stream",
     "text": [
      "Horizontal vector\n",
      "[1 2 3]\n",
      "------------\n",
      "Vertical vector\n",
      "[[10]\n",
      " [20]\n",
      " [30]]\n"
     ]
    }
   ],
   "source": [
    "import numpy as np\n",
    "\n",
    "list1=[1,2,3]\n",
    "\n",
    "list2=[[10],\n",
    "       [20],\n",
    "       [30]]\n",
    "\n",
    "vector1=np.array(list1)\n",
    "vector2=np.array(list2)\n",
    "\n",
    "print(\"Horizontal vector\")\n",
    "print(vector1)\n",
    "\n",
    "print(\"------------\")\n",
    "\n",
    "print(\"Vertical vector\")\n",
    "print(vector2)"
   ]
  },
  {
   "cell_type": "markdown",
   "id": "b2b29e02",
   "metadata": {},
   "source": [
    "# matrix in numpy"
   ]
  },
  {
   "cell_type": "code",
   "execution_count": 27,
   "id": "e862d3c4",
   "metadata": {},
   "outputs": [
    {
     "name": "stdout",
     "output_type": "stream",
     "text": [
      "via string input : \n",
      " [[1 2]\n",
      " [3 4]] \n",
      "\n",
      "\n",
      "via array-like input : \n",
      " [[list([5, 6, 7]) list([4, 6])]]\n"
     ]
    }
   ],
   "source": [
    "import numpy as np\n",
    "\n",
    "a=np.matrix('1 2; 3 4')\n",
    "print(\"via string input : \\n\",a,\"\\n\\n\")\n",
    "\n",
    "b=np.matrix([[5,6,7],[4,6]])\n",
    "print(\"via array-like input : \\n\",b)\n"
   ]
  },
  {
   "cell_type": "markdown",
   "id": "0e23ddb7",
   "metadata": {},
   "source": [
    "# matrix multiplication"
   ]
  },
  {
   "cell_type": "code",
   "execution_count": 28,
   "id": "a4767fa8",
   "metadata": {},
   "outputs": [
    {
     "name": "stdout",
     "output_type": "stream",
     "text": [
      "[[30 35]\n",
      " [40 45]]\n"
     ]
    }
   ],
   "source": [
    "import numpy as np\n",
    "\n",
    "A=5\n",
    "B=[[6,7],\n",
    "   [8,9]]\n",
    "\n",
    "print(np.dot(A,B))"
   ]
  },
  {
   "cell_type": "code",
   "execution_count": 29,
   "id": "d3e2ce35",
   "metadata": {},
   "outputs": [
    {
     "name": "stdout",
     "output_type": "stream",
     "text": [
      "[[27 40]\n",
      " [35 52]]\n",
      "-------------\n"
     ]
    }
   ],
   "source": [
    "A=[[6,7],\n",
    "   [8,9]]\n",
    "\n",
    "B=[[1,2],\n",
    "   [3,4]]\n",
    "\n",
    "print(np.dot(A,B))\n",
    "\n",
    "print(\"-------------\")"
   ]
  },
  {
   "cell_type": "markdown",
   "id": "a8437031",
   "metadata": {},
   "source": [
    "# IQR"
   ]
  },
  {
   "cell_type": "code",
   "execution_count": 30,
   "id": "20db29c2",
   "metadata": {},
   "outputs": [
    {
     "name": "stdout",
     "output_type": "stream",
     "text": [
      "29.0\n"
     ]
    }
   ],
   "source": [
    "data=[32,36,46,56,69,75,88,89,91,92,93,96,97,101,105,112,116]\n",
    "#q1\n",
    "q1=np.median(data[:10])\n",
    "#q3\n",
    "q3=np.median(data[10:])\n",
    "\n",
    "\n",
    "iqr=q3-q1\n",
    "\n",
    "print(iqr)"
   ]
  },
  {
   "cell_type": "markdown",
   "id": "59a19b66",
   "metadata": {},
   "source": [
    "# array broadcasting"
   ]
  },
  {
   "cell_type": "code",
   "execution_count": 31,
   "id": "5e35f596",
   "metadata": {},
   "outputs": [
    {
     "data": {
      "text/plain": [
       "array([2., 4., 6.])"
      ]
     },
     "execution_count": 31,
     "metadata": {},
     "output_type": "execute_result"
    }
   ],
   "source": [
    "a=np.array([1.0,2.0,3.0])\n",
    "b=np.array([2.0,2.0,2.0])\n",
    "\n",
    "a*b"
   ]
  },
  {
   "cell_type": "code",
   "execution_count": 32,
   "id": "d1f7e6b5",
   "metadata": {},
   "outputs": [
    {
     "data": {
      "text/plain": [
       "array([2., 4., 6.])"
      ]
     },
     "execution_count": 32,
     "metadata": {},
     "output_type": "execute_result"
    }
   ],
   "source": [
    "a=np.array([1.0,2.0,3.0])\n",
    "b=2.0\n",
    "\n",
    "a*b"
   ]
  },
  {
   "cell_type": "code",
   "execution_count": null,
   "id": "a97abf9f",
   "metadata": {},
   "outputs": [],
   "source": []
  }
 ],
 "metadata": {
  "kernelspec": {
   "display_name": "Python 3 (ipykernel)",
   "language": "python",
   "name": "python3"
  },
  "language_info": {
   "codemirror_mode": {
    "name": "ipython",
    "version": 3
   },
   "file_extension": ".py",
   "mimetype": "text/x-python",
   "name": "python",
   "nbconvert_exporter": "python",
   "pygments_lexer": "ipython3",
   "version": "3.9.7"
  }
 },
 "nbformat": 4,
 "nbformat_minor": 5
}
