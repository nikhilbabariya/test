{
 "cells": [
  {
   "cell_type": "code",
   "execution_count": 1,
   "id": "ec14b67b",
   "metadata": {},
   "outputs": [
    {
     "name": "stdout",
     "output_type": "stream",
     "text": [
      "Hey, This is Nikhil Here.\n"
     ]
    }
   ],
   "source": [
    "#print random string\n",
    "\n",
    "print(\"Hey, This is Nikhil Here.\")"
   ]
  },
  {
   "cell_type": "code",
   "execution_count": 2,
   "id": "222ddfab",
   "metadata": {},
   "outputs": [
    {
     "name": "stdout",
     "output_type": "stream",
     "text": [
      "22\n",
      "22.09\n",
      "Nikhil\n",
      "False\n"
     ]
    }
   ],
   "source": [
    "#variable and data types\n",
    "\n",
    "var1 = 22\n",
    "var2 = 22.09\n",
    "var3 = \"Nikhil\"\n",
    "var4 = False\n",
    "\n",
    "print(var1)\n",
    "print(var2)\n",
    "print(var3)\n",
    "print(var4)"
   ]
  },
  {
   "cell_type": "code",
   "execution_count": 3,
   "id": "f0a9c9f3",
   "metadata": {},
   "outputs": [
    {
     "name": "stdout",
     "output_type": "stream",
     "text": [
      "<class 'int'>\n",
      "<class 'float'>\n",
      "<class 'str'>\n",
      "<class 'bool'>\n"
     ]
    }
   ],
   "source": [
    "#print data type of variable\n",
    "\n",
    "print(type(var1))\n",
    "print(type(var2))\n",
    "print(type(var3))\n",
    "print(type(var4))"
   ]
  },
  {
   "cell_type": "code",
   "execution_count": 4,
   "id": "b26ce2b8",
   "metadata": {},
   "outputs": [
    {
     "name": "stdout",
     "output_type": "stream",
     "text": [
      "5.5\n",
      "485.98\n"
     ]
    }
   ],
   "source": [
    "var5 = var1/4\n",
    "var6 = var1*var2\n",
    "\n",
    "print(var5)\n",
    "print(var6)"
   ]
  },
  {
   "cell_type": "code",
   "execution_count": 5,
   "id": "c6eb424d",
   "metadata": {},
   "outputs": [
    {
     "name": "stdout",
     "output_type": "stream",
     "text": [
      "Please Enter A Value Of X :- 22\n",
      "Please Enter A Value Of Y :- 09\n",
      "X :-  22\n",
      "Type of X :-  <class 'int'>\n",
      "Y :-  9\n",
      "Type of Y :-  <class 'int'>\n",
      "Z :-  198\n",
      "Type of Z :-  <class 'int'>\n"
     ]
    }
   ],
   "source": [
    "#take input from user using input()\n",
    "\n",
    "x = int(input(\"Please Enter A Value Of X :- \"))\n",
    "y = int(input(\"Please Enter A Value Of Y :- \"))\n",
    "\n",
    "print(\"X :- \",x)\n",
    "print(\"Type of X :- \",type(x))\n",
    "print(\"Y :- \",y)\n",
    "print(\"Type of Y :- \",type(y))\n",
    "\n",
    "z = x*y\n",
    "\n",
    "print(\"Z :- \",z)\n",
    "print(\"Type of Z :- \",type(z))"
   ]
  },
  {
   "cell_type": "code",
   "execution_count": 6,
   "id": "630f66d1",
   "metadata": {},
   "outputs": [
    {
     "name": "stdout",
     "output_type": "stream",
     "text": [
      "Please Enter A Value Of X :- 22\n",
      "Please Enter A Value Of Y :- 9.09\n",
      "X :-  22\n",
      "Type of X :-  <class 'int'>\n",
      "Y :-  9.09\n",
      "Type of Y :-  <class 'float'>\n",
      "Z :-  199.98\n",
      "Type of Z :-  <class 'float'>\n"
     ]
    }
   ],
   "source": [
    "#take input from user using input()\n",
    "\n",
    "x = int(input(\"Please Enter A Value Of X :- \"))\n",
    "y = float(input(\"Please Enter A Value Of Y :- \"))\n",
    "\n",
    "print(\"X :- \",x)\n",
    "print(\"Type of X :- \",type(x))\n",
    "print(\"Y :- \",y)\n",
    "print(\"Type of Y :- \",type(y))\n",
    "\n",
    "z = x*y\n",
    "\n",
    "print(\"Z :- \",z)\n",
    "print(\"Type of Z :- \",type(z))"
   ]
  },
  {
   "cell_type": "code",
   "execution_count": 7,
   "id": "d914b073",
   "metadata": {},
   "outputs": [
    {
     "name": "stdout",
     "output_type": "stream",
     "text": [
      "Please Enter A Value Of X as Your Name :- Nikhil\n",
      "Please Enter A Value Of Y as Your Surename:- Babariya\n",
      "X :-  Nikhil\n",
      "Type of X :-  <class 'str'>\n",
      "Y :-  Babariya\n",
      "Type of Y :-  <class 'str'>\n",
      "Concatenation Of X And Y :-  Nikhil Babariya\n",
      "Type of Z :-  <class 'str'>\n",
      "Repeatation Of X for 5 times :-  NikhilNikhilNikhilNikhilNikhil\n",
      "Type of Z :-  <class 'str'>\n"
     ]
    }
   ],
   "source": [
    "#take input from user using input()\n",
    "\n",
    "x = str(input(\"Please Enter A Value Of X as Your Name :- \"))\n",
    "y = str(input(\"Please Enter A Value Of Y as Your Surename:- \"))\n",
    "\n",
    "print(\"X :- \",x)\n",
    "print(\"Type of X :- \",type(x))\n",
    "print(\"Y :- \",y)\n",
    "print(\"Type of Y :- \",type(y))\n",
    "\n",
    "z = x + \" \" + y\n",
    "w = x*5\n",
    "\n",
    "print(\"Concatenation Of X And Y :- \",z)\n",
    "print(\"Type of Z :- \",type(z))\n",
    "print(\"Repeatation Of X for 5 times :- \",w)\n",
    "print(\"Type of Z :- \",type(w))"
   ]
  },
  {
   "cell_type": "code",
   "execution_count": 8,
   "id": "98bb4d5c",
   "metadata": {},
   "outputs": [
    {
     "name": "stdout",
     "output_type": "stream",
     "text": [
      "Nikhil babariya !!\n",
      "length of str1 :-  18\n"
     ]
    }
   ],
   "source": [
    "#string slicing and indexing\n",
    "\n",
    "str1 = \"Nikhil babariya !!\"\n",
    "\n",
    "print(str1)\n",
    "print(\"length of str1 :- \",len(str1))"
   ]
  },
  {
   "cell_type": "code",
   "execution_count": 9,
   "id": "3c046765",
   "metadata": {},
   "outputs": [
    {
     "data": {
      "text/plain": [
       "'l'"
      ]
     },
     "execution_count": 9,
     "metadata": {},
     "output_type": "execute_result"
    }
   ],
   "source": [
    "str1[5]"
   ]
  },
  {
   "cell_type": "code",
   "execution_count": 10,
   "id": "b785cc79",
   "metadata": {},
   "outputs": [
    {
     "data": {
      "text/plain": [
       "'!'"
      ]
     },
     "execution_count": 10,
     "metadata": {},
     "output_type": "execute_result"
    }
   ],
   "source": [
    "str1[16]"
   ]
  },
  {
   "cell_type": "code",
   "execution_count": 11,
   "id": "4715e61f",
   "metadata": {},
   "outputs": [
    {
     "data": {
      "text/plain": [
       "'Nikhil '"
      ]
     },
     "execution_count": 11,
     "metadata": {},
     "output_type": "execute_result"
    }
   ],
   "source": [
    "str1[0:7]"
   ]
  },
  {
   "cell_type": "code",
   "execution_count": 12,
   "id": "14d6a8e3",
   "metadata": {},
   "outputs": [
    {
     "data": {
      "text/plain": [
       "'Nikhil bab'"
      ]
     },
     "execution_count": 12,
     "metadata": {},
     "output_type": "execute_result"
    }
   ],
   "source": [
    "str1[:10]"
   ]
  },
  {
   "cell_type": "code",
   "execution_count": 13,
   "id": "73beef98",
   "metadata": {},
   "outputs": [
    {
     "data": {
      "text/plain": [
       "'khil babariya !!'"
      ]
     },
     "execution_count": 13,
     "metadata": {},
     "output_type": "execute_result"
    }
   ],
   "source": [
    "str1[2:]"
   ]
  },
  {
   "cell_type": "code",
   "execution_count": 14,
   "id": "d15d3526",
   "metadata": {},
   "outputs": [
    {
     "data": {
      "text/plain": [
       "'Nikhil babariya !'"
      ]
     },
     "execution_count": 14,
     "metadata": {},
     "output_type": "execute_result"
    }
   ],
   "source": [
    "str1[-18:-1]"
   ]
  },
  {
   "cell_type": "code",
   "execution_count": 15,
   "id": "80258564",
   "metadata": {},
   "outputs": [
    {
     "data": {
      "text/plain": [
       "''"
      ]
     },
     "execution_count": 15,
     "metadata": {},
     "output_type": "execute_result"
    }
   ],
   "source": [
    "str1[-1:-17]"
   ]
  },
  {
   "cell_type": "code",
   "execution_count": 16,
   "id": "c61358f5",
   "metadata": {},
   "outputs": [
    {
     "data": {
      "text/plain": [
       "'Nikhil babariya !'"
      ]
     },
     "execution_count": 16,
     "metadata": {},
     "output_type": "execute_result"
    }
   ],
   "source": [
    "str1[:-1]"
   ]
  },
  {
   "cell_type": "code",
   "execution_count": 17,
   "id": "5b190d88",
   "metadata": {},
   "outputs": [
    {
     "data": {
      "text/plain": [
       "'!'"
      ]
     },
     "execution_count": 17,
     "metadata": {},
     "output_type": "execute_result"
    }
   ],
   "source": [
    "str1[-1:]"
   ]
  },
  {
   "cell_type": "code",
   "execution_count": 18,
   "id": "53b71852",
   "metadata": {},
   "outputs": [
    {
     "data": {
      "text/plain": [
       "'!! ayirabab lihkiN'"
      ]
     },
     "execution_count": 18,
     "metadata": {},
     "output_type": "execute_result"
    }
   ],
   "source": [
    "str1[::-1]"
   ]
  },
  {
   "cell_type": "markdown",
   "id": "6d765e46",
   "metadata": {},
   "source": [
    "# Tuple"
   ]
  },
  {
   "cell_type": "code",
   "execution_count": 19,
   "id": "9490958b",
   "metadata": {
    "scrolled": true
   },
   "outputs": [
    {
     "name": "stdout",
     "output_type": "stream",
     "text": [
      "('nikhil', 22, 'babariya', 90)\n",
      "data type of tuple1 :-  <class 'tuple'>\n",
      "length of tuple1 :-  4\n"
     ]
    }
   ],
   "source": [
    "#create a tuple\n",
    "\n",
    "tuple1 = (\"nikhil\",22,\"babariya\",90)\n",
    "\n",
    "print(tuple1)\n",
    "print(\"data type of tuple1 :- \",type(tuple1))\n",
    "\n",
    "print(\"length of tuple1 :- \",len(tuple1))"
   ]
  },
  {
   "cell_type": "code",
   "execution_count": 20,
   "id": "28a1ffc4",
   "metadata": {
    "scrolled": true
   },
   "outputs": [
    {
     "data": {
      "text/plain": [
       "'nikhil'"
      ]
     },
     "execution_count": 20,
     "metadata": {},
     "output_type": "execute_result"
    }
   ],
   "source": [
    "tuple1[0]"
   ]
  },
  {
   "cell_type": "code",
   "execution_count": 21,
   "id": "0379c3dc",
   "metadata": {
    "scrolled": false
   },
   "outputs": [
    {
     "data": {
      "text/plain": [
       "'babariya'"
      ]
     },
     "execution_count": 21,
     "metadata": {},
     "output_type": "execute_result"
    }
   ],
   "source": [
    "tuple1[2]"
   ]
  },
  {
   "cell_type": "code",
   "execution_count": 22,
   "id": "7c375ea9",
   "metadata": {},
   "outputs": [
    {
     "data": {
      "text/plain": [
       "'ba'"
      ]
     },
     "execution_count": 22,
     "metadata": {},
     "output_type": "execute_result"
    }
   ],
   "source": [
    "tuple1[2][0:2]"
   ]
  },
  {
   "cell_type": "code",
   "execution_count": 23,
   "id": "3dea7ebf",
   "metadata": {},
   "outputs": [
    {
     "data": {
      "text/plain": [
       "('nikhil', 22, 'babariya')"
      ]
     },
     "execution_count": 23,
     "metadata": {},
     "output_type": "execute_result"
    }
   ],
   "source": [
    "tuple1[0:3]"
   ]
  },
  {
   "cell_type": "code",
   "execution_count": 24,
   "id": "8d08e5d4",
   "metadata": {},
   "outputs": [
    {
     "data": {
      "text/plain": [
       "(22,)"
      ]
     },
     "execution_count": 24,
     "metadata": {},
     "output_type": "execute_result"
    }
   ],
   "source": [
    "tuple1[1:2]"
   ]
  },
  {
   "cell_type": "code",
   "execution_count": 25,
   "id": "d443b153",
   "metadata": {},
   "outputs": [
    {
     "data": {
      "text/plain": [
       "(90, 'babariya', 22, 'nikhil')"
      ]
     },
     "execution_count": 25,
     "metadata": {},
     "output_type": "execute_result"
    }
   ],
   "source": [
    "tuple1[::-1]"
   ]
  },
  {
   "cell_type": "code",
   "execution_count": 26,
   "id": "5e308223",
   "metadata": {},
   "outputs": [
    {
     "name": "stdout",
     "output_type": "stream",
     "text": [
      "('nikhil', 22, 'babariya', 90)\n",
      "data type of tuple1 :-  <class 'tuple'>\n",
      "('shivam', 31, 'patel', 10)\n",
      "data type of tuple1 :-  <class 'tuple'>\n",
      "('nikhil', 22, 'babariya', 90, 'shivam', 31, 'patel', 10)\n",
      "data type of tuple1 :-  <class 'tuple'>\n",
      "('nikhil', 22, 'babariya', 90, 'nikhil', 22, 'babariya', 90, 'nikhil', 22, 'babariya', 90)\n",
      "data type of tuple1 :-  <class 'tuple'>\n"
     ]
    }
   ],
   "source": [
    "#concatenation and repeatation of tuple\n",
    "\n",
    "tuple1 = (\"nikhil\",22,\"babariya\",90)\n",
    "\n",
    "print(tuple1)\n",
    "print(\"data type of tuple1 :- \",type(tuple1))\n",
    "\n",
    "tuple2 = (\"shivam\",31,\"patel\",10)\n",
    "\n",
    "print(tuple2)\n",
    "print(\"data type of tuple1 :- \",type(tuple2))\n",
    "\n",
    "tuple3 = tuple1 + tuple2\n",
    "print(tuple3)\n",
    "print(\"data type of tuple1 :- \",type(tuple3))\n",
    "\n",
    "tuple4 = tuple1*3\n",
    "print(tuple4)\n",
    "print(\"data type of tuple1 :- \",type(tuple4))"
   ]
  },
  {
   "cell_type": "code",
   "execution_count": 27,
   "id": "143521b6",
   "metadata": {},
   "outputs": [
    {
     "ename": "TypeError",
     "evalue": "'tuple' object doesn't support item deletion",
     "output_type": "error",
     "traceback": [
      "\u001b[1;31m---------------------------------------------------------------------------\u001b[0m",
      "\u001b[1;31mTypeError\u001b[0m                                 Traceback (most recent call last)",
      "\u001b[1;32m~\\AppData\\Local\\Temp/ipykernel_16304/140119086.py\u001b[0m in \u001b[0;36m<module>\u001b[1;34m\u001b[0m\n\u001b[0;32m      1\u001b[0m \u001b[1;31m#deletation and updation of tuple\u001b[0m\u001b[1;33m\u001b[0m\u001b[1;33m\u001b[0m\u001b[0m\n\u001b[0;32m      2\u001b[0m \u001b[1;33m\u001b[0m\u001b[0m\n\u001b[1;32m----> 3\u001b[1;33m \u001b[1;32mdel\u001b[0m \u001b[0mtuple1\u001b[0m\u001b[1;33m[\u001b[0m\u001b[1;36m0\u001b[0m\u001b[1;33m]\u001b[0m\u001b[1;33m\u001b[0m\u001b[1;33m\u001b[0m\u001b[0m\n\u001b[0m\u001b[0;32m      4\u001b[0m \u001b[0mprint\u001b[0m\u001b[1;33m(\u001b[0m\u001b[0mtuple1\u001b[0m\u001b[1;33m)\u001b[0m\u001b[1;33m\u001b[0m\u001b[1;33m\u001b[0m\u001b[0m\n",
      "\u001b[1;31mTypeError\u001b[0m: 'tuple' object doesn't support item deletion"
     ]
    }
   ],
   "source": [
    "#deletation and updation of tuple\n",
    "\n",
    "del tuple1[0]\n",
    "print(tuple1)"
   ]
  },
  {
   "cell_type": "code",
   "execution_count": 28,
   "id": "f58de3ab",
   "metadata": {},
   "outputs": [
    {
     "ename": "TypeError",
     "evalue": "'tuple' object does not support item assignment",
     "output_type": "error",
     "traceback": [
      "\u001b[1;31m---------------------------------------------------------------------------\u001b[0m",
      "\u001b[1;31mTypeError\u001b[0m                                 Traceback (most recent call last)",
      "\u001b[1;32m~\\AppData\\Local\\Temp/ipykernel_16304/2934214400.py\u001b[0m in \u001b[0;36m<module>\u001b[1;34m\u001b[0m\n\u001b[0;32m      1\u001b[0m \u001b[1;31m#deletation and updation of tuple\u001b[0m\u001b[1;33m\u001b[0m\u001b[1;33m\u001b[0m\u001b[0m\n\u001b[0;32m      2\u001b[0m \u001b[1;33m\u001b[0m\u001b[0m\n\u001b[1;32m----> 3\u001b[1;33m \u001b[0mtuple1\u001b[0m\u001b[1;33m[\u001b[0m\u001b[1;36m0\u001b[0m\u001b[1;33m]\u001b[0m \u001b[1;33m=\u001b[0m \u001b[1;34m\"Patel\"\u001b[0m\u001b[1;33m\u001b[0m\u001b[1;33m\u001b[0m\u001b[0m\n\u001b[0m\u001b[0;32m      4\u001b[0m \u001b[0mprint\u001b[0m\u001b[1;33m(\u001b[0m\u001b[0mtuple1\u001b[0m\u001b[1;33m)\u001b[0m\u001b[1;33m\u001b[0m\u001b[1;33m\u001b[0m\u001b[0m\n",
      "\u001b[1;31mTypeError\u001b[0m: 'tuple' object does not support item assignment"
     ]
    }
   ],
   "source": [
    "#deletation and updation of tuple\n",
    "\n",
    "tuple1[0] = \"Patel\"\n",
    "print(tuple1)"
   ]
  },
  {
   "cell_type": "markdown",
   "id": "cd18fa4e",
   "metadata": {},
   "source": [
    "# List"
   ]
  },
  {
   "cell_type": "code",
   "execution_count": 29,
   "id": "27fc67d7",
   "metadata": {},
   "outputs": [
    {
     "name": "stdout",
     "output_type": "stream",
     "text": [
      "('nikhil', 22, 'babariya', 90)\n",
      "data type of list1 :-  <class 'list'>\n",
      "length of list1 :-  4\n"
     ]
    }
   ],
   "source": [
    "#create a list\n",
    "\n",
    "list1 = [\"nikhil\",22,\"babariya\",90]\n",
    "\n",
    "print(tuple1)\n",
    "print(\"data type of list1 :- \",type(list1))\n",
    "\n",
    "print(\"length of list1 :- \",len(list1))"
   ]
  },
  {
   "cell_type": "code",
   "execution_count": 30,
   "id": "79ab3ff7",
   "metadata": {
    "scrolled": false
   },
   "outputs": [
    {
     "data": {
      "text/plain": [
       "'nikhil'"
      ]
     },
     "execution_count": 30,
     "metadata": {},
     "output_type": "execute_result"
    }
   ],
   "source": [
    "list1[0]"
   ]
  },
  {
   "cell_type": "code",
   "execution_count": 31,
   "id": "811fac42",
   "metadata": {
    "scrolled": false
   },
   "outputs": [
    {
     "data": {
      "text/plain": [
       "'babariya'"
      ]
     },
     "execution_count": 31,
     "metadata": {},
     "output_type": "execute_result"
    }
   ],
   "source": [
    "list1[2]"
   ]
  },
  {
   "cell_type": "code",
   "execution_count": 32,
   "id": "6e0d4b9c",
   "metadata": {},
   "outputs": [
    {
     "data": {
      "text/plain": [
       "'ba'"
      ]
     },
     "execution_count": 32,
     "metadata": {},
     "output_type": "execute_result"
    }
   ],
   "source": [
    "list1[2][0:2]"
   ]
  },
  {
   "cell_type": "code",
   "execution_count": 33,
   "id": "317fc502",
   "metadata": {},
   "outputs": [
    {
     "data": {
      "text/plain": [
       "['nikhil', 22, 'babariya']"
      ]
     },
     "execution_count": 33,
     "metadata": {},
     "output_type": "execute_result"
    }
   ],
   "source": [
    "list1[0:3]"
   ]
  },
  {
   "cell_type": "code",
   "execution_count": 34,
   "id": "1e78a322",
   "metadata": {},
   "outputs": [
    {
     "data": {
      "text/plain": [
       "[22]"
      ]
     },
     "execution_count": 34,
     "metadata": {},
     "output_type": "execute_result"
    }
   ],
   "source": [
    "list1[1:2]"
   ]
  },
  {
   "cell_type": "code",
   "execution_count": 35,
   "id": "3f3a96d8",
   "metadata": {},
   "outputs": [
    {
     "data": {
      "text/plain": [
       "[90, 'babariya', 22, 'nikhil']"
      ]
     },
     "execution_count": 35,
     "metadata": {},
     "output_type": "execute_result"
    }
   ],
   "source": [
    "list1[::-1]"
   ]
  },
  {
   "cell_type": "code",
   "execution_count": 36,
   "id": "d8f0f24f",
   "metadata": {},
   "outputs": [
    {
     "name": "stdout",
     "output_type": "stream",
     "text": [
      "['nikhil', 22, 'babariya', 90]\n",
      "data type of list1 :-  <class 'list'>\n",
      "['shivam', 31, 'patel', 10]\n",
      "data type of list2 :-  <class 'list'>\n",
      "['nikhil', 22, 'babariya', 90, 'shivam', 31, 'patel', 10]\n",
      "data type of list3 :-  <class 'list'>\n",
      "('nikhil', 22, 'babariya', 90, 'nikhil', 22, 'babariya', 90, 'nikhil', 22, 'babariya', 90)\n",
      "data type of list4 :-  <class 'list'>\n"
     ]
    }
   ],
   "source": [
    "#concatenation and repeatation of tuple\n",
    "\n",
    "list1 = [\"nikhil\",22,\"babariya\",90]\n",
    "\n",
    "print(list1)\n",
    "print(\"data type of list1 :- \",type(list1))\n",
    "\n",
    "list2 = [\"shivam\",31,\"patel\",10]\n",
    "\n",
    "print(list2)\n",
    "print(\"data type of list2 :- \",type(list2))\n",
    "\n",
    "list3 = list1 + list2\n",
    "print(list3)\n",
    "print(\"data type of list3 :- \",type(list3))\n",
    "\n",
    "list4 = list1*3\n",
    "print(tuple4)\n",
    "print(\"data type of list4 :- \",type(list4))"
   ]
  },
  {
   "cell_type": "code",
   "execution_count": 37,
   "id": "0ea47460",
   "metadata": {},
   "outputs": [
    {
     "name": "stdout",
     "output_type": "stream",
     "text": [
      "[22, 'babariya', 90]\n"
     ]
    }
   ],
   "source": [
    "#deletation and updation of tuple\n",
    "\n",
    "del list1[0]\n",
    "print(list1)"
   ]
  },
  {
   "cell_type": "code",
   "execution_count": 38,
   "id": "5a42e62d",
   "metadata": {},
   "outputs": [
    {
     "name": "stdout",
     "output_type": "stream",
     "text": [
      "['Patel', 'babariya', 90]\n"
     ]
    }
   ],
   "source": [
    "#deletation and updation of tuple\n",
    "\n",
    "list1[0] = \"Patel\"\n",
    "print(list1)"
   ]
  },
  {
   "cell_type": "markdown",
   "id": "7408540a",
   "metadata": {},
   "source": [
    "# Set"
   ]
  },
  {
   "cell_type": "code",
   "execution_count": 39,
   "id": "c4270434",
   "metadata": {},
   "outputs": [
    {
     "name": "stdout",
     "output_type": "stream",
     "text": [
      "{'babariya', 90, 'nikhil', 22}\n",
      "data type of set1 :-  <class 'set'>\n",
      "length of set1 :-  4\n"
     ]
    }
   ],
   "source": [
    "#create a set\n",
    "\n",
    "set1 = {\"nikhil\",22,\"babariya\",90}\n",
    "\n",
    "print(set1)\n",
    "print(\"data type of set1 :- \",type(set1))\n",
    "\n",
    "print(\"length of set1 :- \",len(set1))"
   ]
  },
  {
   "cell_type": "code",
   "execution_count": 40,
   "id": "d7be255c",
   "metadata": {
    "scrolled": false
   },
   "outputs": [
    {
     "ename": "TypeError",
     "evalue": "'set' object is not subscriptable",
     "output_type": "error",
     "traceback": [
      "\u001b[1;31m---------------------------------------------------------------------------\u001b[0m",
      "\u001b[1;31mTypeError\u001b[0m                                 Traceback (most recent call last)",
      "\u001b[1;32m~\\AppData\\Local\\Temp/ipykernel_16304/2166654704.py\u001b[0m in \u001b[0;36m<module>\u001b[1;34m\u001b[0m\n\u001b[1;32m----> 1\u001b[1;33m \u001b[0mset1\u001b[0m\u001b[1;33m[\u001b[0m\u001b[1;36m0\u001b[0m\u001b[1;33m]\u001b[0m\u001b[1;33m\u001b[0m\u001b[1;33m\u001b[0m\u001b[0m\n\u001b[0m",
      "\u001b[1;31mTypeError\u001b[0m: 'set' object is not subscriptable"
     ]
    }
   ],
   "source": [
    "set1[0]"
   ]
  },
  {
   "cell_type": "code",
   "execution_count": 41,
   "id": "8039a0b5",
   "metadata": {
    "scrolled": false
   },
   "outputs": [
    {
     "ename": "TypeError",
     "evalue": "'set' object is not subscriptable",
     "output_type": "error",
     "traceback": [
      "\u001b[1;31m---------------------------------------------------------------------------\u001b[0m",
      "\u001b[1;31mTypeError\u001b[0m                                 Traceback (most recent call last)",
      "\u001b[1;32m~\\AppData\\Local\\Temp/ipykernel_16304/2367749814.py\u001b[0m in \u001b[0;36m<module>\u001b[1;34m\u001b[0m\n\u001b[1;32m----> 1\u001b[1;33m \u001b[0mset1\u001b[0m\u001b[1;33m[\u001b[0m\u001b[1;36m2\u001b[0m\u001b[1;33m]\u001b[0m\u001b[1;33m\u001b[0m\u001b[1;33m\u001b[0m\u001b[0m\n\u001b[0m",
      "\u001b[1;31mTypeError\u001b[0m: 'set' object is not subscriptable"
     ]
    }
   ],
   "source": [
    "set1[2]"
   ]
  },
  {
   "cell_type": "code",
   "execution_count": 42,
   "id": "bd6ceb4e",
   "metadata": {},
   "outputs": [
    {
     "ename": "TypeError",
     "evalue": "'set' object is not subscriptable",
     "output_type": "error",
     "traceback": [
      "\u001b[1;31m---------------------------------------------------------------------------\u001b[0m",
      "\u001b[1;31mTypeError\u001b[0m                                 Traceback (most recent call last)",
      "\u001b[1;32m~\\AppData\\Local\\Temp/ipykernel_16304/2548167364.py\u001b[0m in \u001b[0;36m<module>\u001b[1;34m\u001b[0m\n\u001b[1;32m----> 1\u001b[1;33m \u001b[0mset1\u001b[0m\u001b[1;33m[\u001b[0m\u001b[1;36m2\u001b[0m\u001b[1;33m]\u001b[0m\u001b[1;33m[\u001b[0m\u001b[1;36m0\u001b[0m\u001b[1;33m:\u001b[0m\u001b[1;36m2\u001b[0m\u001b[1;33m]\u001b[0m\u001b[1;33m\u001b[0m\u001b[1;33m\u001b[0m\u001b[0m\n\u001b[0m",
      "\u001b[1;31mTypeError\u001b[0m: 'set' object is not subscriptable"
     ]
    }
   ],
   "source": [
    "set1[2][0:2]"
   ]
  },
  {
   "cell_type": "code",
   "execution_count": 43,
   "id": "6eb51559",
   "metadata": {},
   "outputs": [
    {
     "ename": "TypeError",
     "evalue": "'set' object is not subscriptable",
     "output_type": "error",
     "traceback": [
      "\u001b[1;31m---------------------------------------------------------------------------\u001b[0m",
      "\u001b[1;31mTypeError\u001b[0m                                 Traceback (most recent call last)",
      "\u001b[1;32m~\\AppData\\Local\\Temp/ipykernel_16304/2041031477.py\u001b[0m in \u001b[0;36m<module>\u001b[1;34m\u001b[0m\n\u001b[1;32m----> 1\u001b[1;33m \u001b[0mset1\u001b[0m\u001b[1;33m[\u001b[0m\u001b[1;36m0\u001b[0m\u001b[1;33m:\u001b[0m\u001b[1;36m3\u001b[0m\u001b[1;33m]\u001b[0m\u001b[1;33m\u001b[0m\u001b[1;33m\u001b[0m\u001b[0m\n\u001b[0m",
      "\u001b[1;31mTypeError\u001b[0m: 'set' object is not subscriptable"
     ]
    }
   ],
   "source": [
    "set1[0:3]"
   ]
  },
  {
   "cell_type": "code",
   "execution_count": 44,
   "id": "4521865a",
   "metadata": {},
   "outputs": [
    {
     "ename": "TypeError",
     "evalue": "'set' object is not subscriptable",
     "output_type": "error",
     "traceback": [
      "\u001b[1;31m---------------------------------------------------------------------------\u001b[0m",
      "\u001b[1;31mTypeError\u001b[0m                                 Traceback (most recent call last)",
      "\u001b[1;32m~\\AppData\\Local\\Temp/ipykernel_16304/2364024901.py\u001b[0m in \u001b[0;36m<module>\u001b[1;34m\u001b[0m\n\u001b[1;32m----> 1\u001b[1;33m \u001b[0mset1\u001b[0m\u001b[1;33m[\u001b[0m\u001b[1;36m1\u001b[0m\u001b[1;33m:\u001b[0m\u001b[1;36m2\u001b[0m\u001b[1;33m]\u001b[0m\u001b[1;33m\u001b[0m\u001b[1;33m\u001b[0m\u001b[0m\n\u001b[0m",
      "\u001b[1;31mTypeError\u001b[0m: 'set' object is not subscriptable"
     ]
    }
   ],
   "source": [
    "set1[1:2]"
   ]
  },
  {
   "cell_type": "code",
   "execution_count": 45,
   "id": "0c3caccd",
   "metadata": {},
   "outputs": [
    {
     "ename": "TypeError",
     "evalue": "'set' object is not subscriptable",
     "output_type": "error",
     "traceback": [
      "\u001b[1;31m---------------------------------------------------------------------------\u001b[0m",
      "\u001b[1;31mTypeError\u001b[0m                                 Traceback (most recent call last)",
      "\u001b[1;32m~\\AppData\\Local\\Temp/ipykernel_16304/232732650.py\u001b[0m in \u001b[0;36m<module>\u001b[1;34m\u001b[0m\n\u001b[1;32m----> 1\u001b[1;33m \u001b[0mset1\u001b[0m\u001b[1;33m[\u001b[0m\u001b[1;33m:\u001b[0m\u001b[1;33m:\u001b[0m\u001b[1;33m-\u001b[0m\u001b[1;36m1\u001b[0m\u001b[1;33m]\u001b[0m\u001b[1;33m\u001b[0m\u001b[1;33m\u001b[0m\u001b[0m\n\u001b[0m",
      "\u001b[1;31mTypeError\u001b[0m: 'set' object is not subscriptable"
     ]
    }
   ],
   "source": [
    "set1[::-1]"
   ]
  },
  {
   "cell_type": "code",
   "execution_count": 46,
   "id": "7e4bc67a",
   "metadata": {},
   "outputs": [
    {
     "name": "stdout",
     "output_type": "stream",
     "text": [
      "['Patel', 'babariya', 90]\n",
      "data type of set1 :-  <class 'set'>\n",
      "{10, 31, 'patel', 'shivam'}\n",
      "data type of set2 :-  <class 'set'>\n"
     ]
    },
    {
     "ename": "TypeError",
     "evalue": "unsupported operand type(s) for +: 'set' and 'set'",
     "output_type": "error",
     "traceback": [
      "\u001b[1;31m---------------------------------------------------------------------------\u001b[0m",
      "\u001b[1;31mTypeError\u001b[0m                                 Traceback (most recent call last)",
      "\u001b[1;32m~\\AppData\\Local\\Temp/ipykernel_16304/2816993347.py\u001b[0m in \u001b[0;36m<module>\u001b[1;34m\u001b[0m\n\u001b[0;32m     11\u001b[0m \u001b[0mprint\u001b[0m\u001b[1;33m(\u001b[0m\u001b[1;34m\"data type of set2 :- \"\u001b[0m\u001b[1;33m,\u001b[0m\u001b[0mtype\u001b[0m\u001b[1;33m(\u001b[0m\u001b[0mset2\u001b[0m\u001b[1;33m)\u001b[0m\u001b[1;33m)\u001b[0m\u001b[1;33m\u001b[0m\u001b[1;33m\u001b[0m\u001b[0m\n\u001b[0;32m     12\u001b[0m \u001b[1;33m\u001b[0m\u001b[0m\n\u001b[1;32m---> 13\u001b[1;33m \u001b[0mset3\u001b[0m \u001b[1;33m=\u001b[0m \u001b[0mset1\u001b[0m \u001b[1;33m+\u001b[0m \u001b[0mset2\u001b[0m\u001b[1;33m\u001b[0m\u001b[1;33m\u001b[0m\u001b[0m\n\u001b[0m\u001b[0;32m     14\u001b[0m \u001b[0mprint\u001b[0m\u001b[1;33m(\u001b[0m\u001b[0mset3\u001b[0m\u001b[1;33m)\u001b[0m\u001b[1;33m\u001b[0m\u001b[1;33m\u001b[0m\u001b[0m\n\u001b[0;32m     15\u001b[0m \u001b[0mprint\u001b[0m\u001b[1;33m(\u001b[0m\u001b[1;34m\"data type of set3 :- \"\u001b[0m\u001b[1;33m,\u001b[0m\u001b[0mtype\u001b[0m\u001b[1;33m(\u001b[0m\u001b[0mset3\u001b[0m\u001b[1;33m)\u001b[0m\u001b[1;33m)\u001b[0m\u001b[1;33m\u001b[0m\u001b[1;33m\u001b[0m\u001b[0m\n",
      "\u001b[1;31mTypeError\u001b[0m: unsupported operand type(s) for +: 'set' and 'set'"
     ]
    }
   ],
   "source": [
    "#concatenation and repeatation of tuple\n",
    "\n",
    "set1 = {\"nikhil\",22,\"babariya\",90}\n",
    "\n",
    "print(list1)\n",
    "print(\"data type of set1 :- \",type(set1))\n",
    "\n",
    "set2 = {\"shivam\",31,\"patel\",10}\n",
    "\n",
    "print(set2)\n",
    "print(\"data type of set2 :- \",type(set2))\n",
    "\n",
    "set3 = set1 + set2\n",
    "print(set3)\n",
    "print(\"data type of set3 :- \",type(set3))\n",
    "\n",
    "set4 = set1*3\n",
    "print(set4)\n",
    "print(\"data type of set4 :- \",type(set4))"
   ]
  },
  {
   "cell_type": "code",
   "execution_count": 47,
   "id": "d94c7e3c",
   "metadata": {},
   "outputs": [
    {
     "ename": "TypeError",
     "evalue": "'set' object doesn't support item deletion",
     "output_type": "error",
     "traceback": [
      "\u001b[1;31m---------------------------------------------------------------------------\u001b[0m",
      "\u001b[1;31mTypeError\u001b[0m                                 Traceback (most recent call last)",
      "\u001b[1;32m~\\AppData\\Local\\Temp/ipykernel_16304/1928102549.py\u001b[0m in \u001b[0;36m<module>\u001b[1;34m\u001b[0m\n\u001b[0;32m      1\u001b[0m \u001b[1;31m#deletation and updation of tuple\u001b[0m\u001b[1;33m\u001b[0m\u001b[1;33m\u001b[0m\u001b[0m\n\u001b[0;32m      2\u001b[0m \u001b[1;33m\u001b[0m\u001b[0m\n\u001b[1;32m----> 3\u001b[1;33m \u001b[1;32mdel\u001b[0m \u001b[0mset1\u001b[0m\u001b[1;33m[\u001b[0m\u001b[1;36m0\u001b[0m\u001b[1;33m]\u001b[0m\u001b[1;33m\u001b[0m\u001b[1;33m\u001b[0m\u001b[0m\n\u001b[0m\u001b[0;32m      4\u001b[0m \u001b[0mprint\u001b[0m\u001b[1;33m(\u001b[0m\u001b[0msett1\u001b[0m\u001b[1;33m)\u001b[0m\u001b[1;33m\u001b[0m\u001b[1;33m\u001b[0m\u001b[0m\n",
      "\u001b[1;31mTypeError\u001b[0m: 'set' object doesn't support item deletion"
     ]
    }
   ],
   "source": [
    "#deletation and updation of tuple\n",
    "\n",
    "del set1[0]\n",
    "print(sett1)"
   ]
  },
  {
   "cell_type": "code",
   "execution_count": 48,
   "id": "f9109dd8",
   "metadata": {},
   "outputs": [
    {
     "ename": "TypeError",
     "evalue": "'set' object does not support item assignment",
     "output_type": "error",
     "traceback": [
      "\u001b[1;31m---------------------------------------------------------------------------\u001b[0m",
      "\u001b[1;31mTypeError\u001b[0m                                 Traceback (most recent call last)",
      "\u001b[1;32m~\\AppData\\Local\\Temp/ipykernel_16304/3693440939.py\u001b[0m in \u001b[0;36m<module>\u001b[1;34m\u001b[0m\n\u001b[0;32m      1\u001b[0m \u001b[1;31m#deletation and updation of tuple\u001b[0m\u001b[1;33m\u001b[0m\u001b[1;33m\u001b[0m\u001b[0m\n\u001b[0;32m      2\u001b[0m \u001b[1;33m\u001b[0m\u001b[0m\n\u001b[1;32m----> 3\u001b[1;33m \u001b[0mset1\u001b[0m\u001b[1;33m[\u001b[0m\u001b[1;36m0\u001b[0m\u001b[1;33m]\u001b[0m \u001b[1;33m=\u001b[0m \u001b[1;34m\"Patel\"\u001b[0m\u001b[1;33m\u001b[0m\u001b[1;33m\u001b[0m\u001b[0m\n\u001b[0m\u001b[0;32m      4\u001b[0m \u001b[0mprint\u001b[0m\u001b[1;33m(\u001b[0m\u001b[0mset1\u001b[0m\u001b[1;33m)\u001b[0m\u001b[1;33m\u001b[0m\u001b[1;33m\u001b[0m\u001b[0m\n",
      "\u001b[1;31mTypeError\u001b[0m: 'set' object does not support item assignment"
     ]
    }
   ],
   "source": [
    "#deletation and updation of tuple\n",
    "\n",
    "set1[0] = \"Patel\"\n",
    "print(set1)"
   ]
  },
  {
   "cell_type": "markdown",
   "id": "4e7ebf80",
   "metadata": {},
   "source": [
    "# Dictionary"
   ]
  },
  {
   "cell_type": "code",
   "execution_count": 49,
   "id": "43f180e1",
   "metadata": {},
   "outputs": [
    {
     "name": "stdout",
     "output_type": "stream",
     "text": [
      "{'nikhil': 22, 'babariya': 90}\n",
      "data type of dict1 :-  <class 'dict'>\n",
      "length of dict1 :-  2\n",
      "{'shivam': 31, 'patel': 10}\n",
      "data type of dict2 :-  <class 'dict'>\n",
      "length of dict2 :-  2\n"
     ]
    }
   ],
   "source": [
    "#create a dictionary\n",
    "\n",
    "dict1 = {\"nikhil\":22,\"babariya\":90}\n",
    "\n",
    "print(dict1)\n",
    "print(\"data type of dict1 :- \",type(dict1))\n",
    "\n",
    "print(\"length of dict1 :- \",len(dict1))\n",
    "\n",
    "dict2 = {\"shivam\":31,\"patel\":10}\n",
    "\n",
    "print(dict2)\n",
    "print(\"data type of dict2 :- \",type(dict2))\n",
    "\n",
    "print(\"length of dict2 :- \",len(dict2))"
   ]
  },
  {
   "cell_type": "code",
   "execution_count": 50,
   "id": "21587dc7",
   "metadata": {},
   "outputs": [
    {
     "name": "stdout",
     "output_type": "stream",
     "text": [
      "values of dict1 :-  dict_values([22, 90])\n",
      "keys of dict1 :-  dict_keys(['nikhil', 'babariya'])\n"
     ]
    }
   ],
   "source": [
    "print(\"values of dict1 :- \",dict1.values())\n",
    "print(\"keys of dict1 :- \",dict1.keys())"
   ]
  },
  {
   "cell_type": "code",
   "execution_count": 51,
   "id": "62bec9a2",
   "metadata": {},
   "outputs": [
    {
     "name": "stdout",
     "output_type": "stream",
     "text": [
      "{'one': 'Nikhil Babariya'}\n"
     ]
    }
   ],
   "source": [
    "#create dictionary with single value\n",
    "dict3 = {}\n",
    "dict3['one'] = \"Nikhil Babariya\"\n",
    "\n",
    "print(dict3)"
   ]
  },
  {
   "cell_type": "code",
   "execution_count": 52,
   "id": "f3323cdd",
   "metadata": {},
   "outputs": [
    {
     "data": {
      "text/plain": [
       "3.141592653589793"
      ]
     },
     "execution_count": 52,
     "metadata": {},
     "output_type": "execute_result"
    }
   ],
   "source": [
    "#import math library \n",
    "from math import pi\n",
    "pi"
   ]
  },
  {
   "cell_type": "code",
   "execution_count": 53,
   "id": "6e88178b",
   "metadata": {},
   "outputs": [
    {
     "name": "stdout",
     "output_type": "stream",
     "text": [
      "Area of Cicle with  22  :-  1520.5308443374597\n"
     ]
    }
   ],
   "source": [
    "#find area of circle\n",
    "\n",
    "r = 22\n",
    "area = r*pi*r\n",
    "\n",
    "print(\"Area of Cicle with \",r,\" :- \",area)"
   ]
  },
  {
   "cell_type": "code",
   "execution_count": 54,
   "id": "bcb015ff",
   "metadata": {},
   "outputs": [
    {
     "name": "stdout",
     "output_type": "stream",
     "text": [
      "0\n",
      "1\n",
      "2\n",
      "3\n",
      "4\n",
      "5\n",
      "6\n",
      "7\n",
      "8\n",
      "9\n"
     ]
    }
   ],
   "source": [
    "for i in range(10):\n",
    "    print(i)"
   ]
  },
  {
   "cell_type": "code",
   "execution_count": 55,
   "id": "ec4d80ab",
   "metadata": {},
   "outputs": [
    {
     "name": "stdout",
     "output_type": "stream",
     "text": [
      "0\n",
      "9\n",
      "18\n",
      "27\n",
      "36\n",
      "45\n",
      "54\n",
      "63\n",
      "72\n",
      "81\n",
      "90\n"
     ]
    }
   ],
   "source": [
    "for i in range(0,99,9):\n",
    "    print(i)"
   ]
  },
  {
   "cell_type": "code",
   "execution_count": 66,
   "id": "ed65acb3",
   "metadata": {},
   "outputs": [
    {
     "name": "stdout",
     "output_type": "stream",
     "text": [
      "Please Select An Operation :- \n",
      "1. Addition\n",
      "2. Subtraction\n",
      "3. Multiplication\n",
      "4. Division\n",
      "Please Enter A Choice (1/2/3/4):- 2\n",
      "Please Enter A Number 1 :- 22\n",
      "Please Enter A Number 2 :- 09\n",
      "The Subtraction of Two Number ( 22  and  9 ) :-  13\n"
     ]
    }
   ],
   "source": [
    "#Calculator using function\n",
    "\n",
    "def add(n1,n2):\n",
    "    return n1+n2\n",
    "\n",
    "def sub(n1,n2):\n",
    "    return n1-n2\n",
    "\n",
    "def mul(n1,n2):\n",
    "    return n1*n2\n",
    "\n",
    "def div(n1,n2):\n",
    "    return n1/n2\n",
    "\n",
    "print(\"Please Select An Operation :- \")\n",
    "print(\"1. Addition\")\n",
    "print(\"2. Subtraction\")\n",
    "print(\"3. Multiplication\")\n",
    "print(\"4. Division\")\n",
    "\n",
    "choice = int(input(\"Please Enter A Choice (1/2/3/4):- \"))\n",
    "\n",
    "n1 = int(input(\"Please Enter A Number 1 :- \"))\n",
    "n2 = int(input(\"Please Enter A Number 2 :- \"))\n",
    "\n",
    "if choice== 1:\n",
    "    print(\"The Addition of Two Number (\" ,n1, \" and \" ,n2, \") :- \",add(n1,n2))\n",
    "elif choice== 2:\n",
    "    print(\"The Subtraction of Two Number (\" ,n1, \" and \" ,n2, \") :- \",sub(n1,n2))\n",
    "elif choice== 3:\n",
    "    print(\"The Multiplication of Two Number (\" ,n1, \" and \" ,n2, \") :- \",mul(n1,n2))\n",
    "elif choice== 4:\n",
    "    print(\"The Division of Two Number (\" ,n1, \" and \" ,n2, \") :- \",div(n1,n2))\n",
    "else:\n",
    "    print(\"Invalid Input\")"
   ]
  },
  {
   "cell_type": "code",
   "execution_count": 68,
   "id": "c04f5505",
   "metadata": {},
   "outputs": [
    {
     "name": "stdout",
     "output_type": "stream",
     "text": [
      "5 this is positive number\n"
     ]
    }
   ],
   "source": [
    "#pyhton conditional statement\n",
    "\n",
    "#if statement\n",
    "\n",
    "num=5\n",
    "if num > 0:\n",
    "    print(num,\"this is positive number\")"
   ]
  },
  {
   "cell_type": "code",
   "execution_count": 69,
   "id": "1f1c3e7b",
   "metadata": {},
   "outputs": [
    {
     "name": "stdout",
     "output_type": "stream",
     "text": [
      "-5 this is negative number\n"
     ]
    }
   ],
   "source": [
    "#if else statement\n",
    "\n",
    "num=-5\n",
    "if num > 0:\n",
    "    print(num,\"this is positive number\")\n",
    "else:\n",
    "    print(num,\"this is negative number\")"
   ]
  },
  {
   "cell_type": "code",
   "execution_count": 74,
   "id": "b7473b3c",
   "metadata": {},
   "outputs": [
    {
     "name": "stdout",
     "output_type": "stream",
     "text": [
      "Please enter A number :- 0\n",
      "0 this is Zero number\n"
     ]
    }
   ],
   "source": [
    "#nested if else statement\n",
    "\n",
    "num=int(input(\"Please enter A number :- \"))\n",
    "if num >= 0:\n",
    "    if num == 0:\n",
    "        print(num,\"this is Zero number\")\n",
    "    else:\n",
    "        print(num,\"this is positive number\")\n",
    "else:\n",
    "    print(num,\"this is 123negative number\")"
   ]
  },
  {
   "cell_type": "code",
   "execution_count": 77,
   "id": "321996eb",
   "metadata": {},
   "outputs": [
    {
     "name": "stdout",
     "output_type": "stream",
     "text": [
      "This is address of n1 :-  1570983341008\n",
      "This is address of n2 :-  1570983341008\n",
      "This is address of n3 :-  1570983341008\n"
     ]
    }
   ],
   "source": [
    "n1=n2=n3=22\n",
    "\n",
    "print(\"This is address of n1 :- \",id(n1))\n",
    "print(\"This is address of n2 :- \",id(n2))\n",
    "print(\"This is address of n3 :- \",id(n3))"
   ]
  },
  {
   "cell_type": "code",
   "execution_count": null,
   "id": "2e2442da",
   "metadata": {},
   "outputs": [],
   "source": []
  }
 ],
 "metadata": {
  "kernelspec": {
   "display_name": "Python 3 (ipykernel)",
   "language": "python",
   "name": "python3"
  },
  "language_info": {
   "codemirror_mode": {
    "name": "ipython",
    "version": 3
   },
   "file_extension": ".py",
   "mimetype": "text/x-python",
   "name": "python",
   "nbconvert_exporter": "python",
   "pygments_lexer": "ipython3",
   "version": "3.9.7"
  }
 },
 "nbformat": 4,
 "nbformat_minor": 5
}
