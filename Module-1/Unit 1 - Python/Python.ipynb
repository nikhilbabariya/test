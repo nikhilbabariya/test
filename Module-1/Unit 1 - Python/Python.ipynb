{
 "cells": [
  {
   "cell_type": "code",
   "execution_count": 2,
   "id": "4658b0e4",
   "metadata": {},
   "outputs": [
    {
     "name": "stdout",
     "output_type": "stream",
     "text": [
      "hello\n"
     ]
    }
   ],
   "source": [
    "print(\"hello\")\n"
   ]
  },
  {
   "cell_type": "code",
   "execution_count": 7,
   "id": "c9ffc6d4",
   "metadata": {},
   "outputs": [
    {
     "name": "stdout",
     "output_type": "stream",
     "text": [
      "<class 'int'>\n"
     ]
    }
   ],
   "source": [
    "var1 = 11\n",
    "var2 = 1231\n",
    "print(type(var1))"
   ]
  },
  {
   "cell_type": "code",
   "execution_count": 10,
   "id": "bbf674d4",
   "metadata": {},
   "outputs": [
    {
     "name": "stdout",
     "output_type": "stream",
     "text": [
      "307\n",
      "13541\n"
     ]
    }
   ],
   "source": [
    "var5 = var2//4\n",
    "var6 = var1*var2\n",
    "\n",
    "print(var5)\n",
    "print(var6)"
   ]
  },
  {
   "cell_type": "code",
   "execution_count": 12,
   "id": "a9c0315b",
   "metadata": {},
   "outputs": [
    {
     "name": "stdout",
     "output_type": "stream",
     "text": [
      "Enter the value of x : 225\n",
      "Enter the value of y : 22\n"
     ]
    }
   ],
   "source": [
    "x = int(input(\"Enter the value of x : \"))\n",
    "y = int(input(\"Enter the value of y : \"))"
   ]
  },
  {
   "cell_type": "code",
   "execution_count": 13,
   "id": "e8bdd995",
   "metadata": {},
   "outputs": [
    {
     "name": "stdout",
     "output_type": "stream",
     "text": [
      "laala\n",
      "laadawsdasdala\n",
      "laalalaadawsdasdala\n"
     ]
    }
   ],
   "source": [
    "str1 = \"laala\"\n",
    "print(str1)\n",
    "\n",
    "str2 = \"laadawsdasdala\"\n",
    "print(str2)\n",
    "print(str1 + str2)"
   ]
  },
  {
   "cell_type": "code",
   "execution_count": 1,
   "id": "c2f2dce6",
   "metadata": {},
   "outputs": [
    {
     "name": "stdout",
     "output_type": "stream",
     "text": [
      "Enter your name: Kartik\n",
      "Enter your surname: Khanna\n",
      "Kartik Khanna\n"
     ]
    }
   ],
   "source": [
    "a= str(input(\"Enter your name: \"))\n",
    "b= str(input(\"Enter your surname: \"))\n",
    "print(a+\" \"+b)"
   ]
  },
  {
   "cell_type": "code",
   "execution_count": 2,
   "id": "5e8502b9",
   "metadata": {},
   "outputs": [
    {
     "name": "stdout",
     "output_type": "stream",
     "text": [
      "olleH\n"
     ]
    }
   ],
   "source": [
    "str10 = \"Hello\"\n",
    "str20 = str10[::-1]\n",
    "print(str20)"
   ]
  },
  {
   "cell_type": "code",
   "execution_count": 10,
   "id": "f73dd600",
   "metadata": {},
   "outputs": [
    {
     "name": "stdout",
     "output_type": "stream",
     "text": [
      "('parulllll', 22, 'bharat', 'vad', 411, 'jod')\n",
      "<class 'tuple'>\n"
     ]
    }
   ],
   "source": [
    "tup1 = (\"parulllll\", 22,\"bharat\", \"vad\", 411, \"jod\")\n",
    "print(tup1)\n",
    "print(type(tup1))"
   ]
  },
  {
   "cell_type": "code",
   "execution_count": 15,
   "id": "40c2e6dc",
   "metadata": {},
   "outputs": [
    {
     "data": {
      "text/plain": [
       "411"
      ]
     },
     "execution_count": 15,
     "metadata": {},
     "output_type": "execute_result"
    }
   ],
   "source": [
    "tup1[4]"
   ]
  },
  {
   "cell_type": "code",
   "execution_count": 17,
   "id": "faf121af",
   "metadata": {},
   "outputs": [
    {
     "data": {
      "text/plain": [
       "'jod'"
      ]
     },
     "execution_count": 17,
     "metadata": {},
     "output_type": "execute_result"
    }
   ],
   "source": [
    "tup1[5][0:3]"
   ]
  },
  {
   "cell_type": "code",
   "execution_count": 19,
   "id": "5c7922a2",
   "metadata": {},
   "outputs": [
    {
     "data": {
      "text/plain": [
       "'parulllllbharat'"
      ]
     },
     "execution_count": 19,
     "metadata": {},
     "output_type": "execute_result"
    }
   ],
   "source": [
    "tup1[0]+tup1[2]"
   ]
  },
  {
   "cell_type": "code",
   "execution_count": 23,
   "id": "d8ae2939",
   "metadata": {},
   "outputs": [
    {
     "ename": "NameError",
     "evalue": "name 'tup1' is not defined",
     "output_type": "error",
     "traceback": [
      "\u001b[1;31m---------------------------------------------------------------------------\u001b[0m",
      "\u001b[1;31mNameError\u001b[0m                                 Traceback (most recent call last)",
      "\u001b[1;32m~\\AppData\\Local\\Temp/ipykernel_2008/504225714.py\u001b[0m in \u001b[0;36m<module>\u001b[1;34m\u001b[0m\n\u001b[0;32m      1\u001b[0m \u001b[1;32mdel\u001b[0m \u001b[0mtup1\u001b[0m\u001b[1;33m\u001b[0m\u001b[1;33m\u001b[0m\u001b[0m\n\u001b[1;32m----> 2\u001b[1;33m \u001b[0mprint\u001b[0m\u001b[1;33m(\u001b[0m\u001b[0mtup1\u001b[0m\u001b[1;33m)\u001b[0m\u001b[1;33m\u001b[0m\u001b[1;33m\u001b[0m\u001b[0m\n\u001b[0m",
      "\u001b[1;31mNameError\u001b[0m: name 'tup1' is not defined"
     ]
    }
   ],
   "source": [
    "del tup1\n",
    "print(tup1)"
   ]
  },
  {
   "cell_type": "code",
   "execution_count": 31,
   "id": "236b6e3b",
   "metadata": {},
   "outputs": [
    {
     "name": "stdout",
     "output_type": "stream",
     "text": [
      "['abk', '21123', 'dwdq ', '154']\n"
     ]
    }
   ],
   "source": [
    "lst = [\"abk\" ,\"21123\" ,\"dwdq \", \"154\"]\n",
    "print (lst)"
   ]
  },
  {
   "cell_type": "code",
   "execution_count": 32,
   "id": "c0210ef9",
   "metadata": {},
   "outputs": [
    {
     "name": "stdout",
     "output_type": "stream",
     "text": [
      "['abk', '21123', 'dwdq ']\n"
     ]
    }
   ],
   "source": [
    "lst.remove(\"154\")\n",
    "print(lst)"
   ]
  },
  {
   "cell_type": "code",
   "execution_count": 36,
   "id": "41404bad",
   "metadata": {},
   "outputs": [
    {
     "name": "stdout",
     "output_type": "stream",
     "text": [
      "{'University': 'parul', 'cousrse': 24}\n"
     ]
    },
    {
     "data": {
      "text/plain": [
       "24"
      ]
     },
     "execution_count": 36,
     "metadata": {},
     "output_type": "execute_result"
    }
   ],
   "source": [
    "dict1 = {\"University\" : \"parul\",\"cousrse\" :24 }\n",
    "print(dict1)\n",
    "dict1[\"cousrse\"]"
   ]
  },
  {
   "cell_type": "code",
   "execution_count": null,
   "id": "815d2ec2",
   "metadata": {},
   "outputs": [],
   "source": []
  }
 ],
 "metadata": {
  "kernelspec": {
   "display_name": "Python 3 (ipykernel)",
   "language": "python",
   "name": "python3"
  },
  "language_info": {
   "codemirror_mode": {
    "name": "ipython",
    "version": 3
   },
   "file_extension": ".py",
   "mimetype": "text/x-python",
   "name": "python",
   "nbconvert_exporter": "python",
   "pygments_lexer": "ipython3",
   "version": "3.9.7"
  }
 },
 "nbformat": 4,
 "nbformat_minor": 5
}
