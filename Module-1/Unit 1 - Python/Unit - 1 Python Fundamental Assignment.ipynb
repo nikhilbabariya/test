{
 "cells": [
  {
   "cell_type": "code",
   "execution_count": 2,
   "id": "6fde38e0",
   "metadata": {},
   "outputs": [
    {
     "name": "stdout",
     "output_type": "stream",
     "text": [
      "Please enter a temprature in farahnhit :- 98\n",
      "36.66666666666667\n"
     ]
    }
   ],
   "source": [
    "#covert far to cel\n",
    "\n",
    "far = int(input(\"Please enter a temprature in farahnhit :- \"))\n",
    "\n",
    "cel = ((far-32)*(5/9))\n",
    "print(cel)"
   ]
  },
  {
   "cell_type": "code",
   "execution_count": 8,
   "id": "20882b37",
   "metadata": {},
   "outputs": [
    {
     "name": "stdout",
     "output_type": "stream",
     "text": [
      "Please enter a Number 1 :- 22\n",
      "Please enter a Number 2 :- 09\n",
      "Before swapping\n",
      "A =  22\n",
      "B =  9\n",
      "after swapping\n",
      "A =  9\n",
      "B =  22\n"
     ]
    }
   ],
   "source": [
    "#swapping using \n",
    "\n",
    "a = int(input(\"Please enter a Number 1 :- \"))\n",
    "b = int(input(\"Please enter a Number 2 :- \"))\n",
    "\n",
    "print(\"Before swapping\")\n",
    "print(\"A = \",a)\n",
    "print(\"B = \",b)\n",
    "\n",
    "temp=a\n",
    "a=b\n",
    "b=temp\n",
    "\n",
    "print(\"after swapping\")\n",
    "print(\"A = \",a)\n",
    "print(\"B = \",b)"
   ]
  },
  {
   "cell_type": "code",
   "execution_count": 16,
   "id": "2ce6f7f0",
   "metadata": {},
   "outputs": [
    {
     "name": "stdout",
     "output_type": "stream",
     "text": [
      "Please enter a x1 point 1 :- 1\n",
      "Please enter a x2 point 1 :- 2\n",
      "Please enter a y1 point 2 :- 3\n",
      "Please enter a y2 point 2 :- 4\n",
      "1.4142135623730951\n"
     ]
    }
   ],
   "source": [
    "#distance betwwen two point\n",
    "\n",
    "x1 = float(input(\"Please enter a x1 point 1 :- \"))\n",
    "x2 = float(input(\"Please enter a x2 point 1 :- \"))\n",
    "y1 = float(input(\"Please enter a y1 point 2 :- \"))\n",
    "y2 = float(input(\"Please enter a y2 point 2 :- \"))\n",
    "\n",
    "d =  ((x2 - x1)**2 + (y2 - y1)**2)**0.5\n",
    "\n",
    "print(d)"
   ]
  },
  {
   "cell_type": "code",
   "execution_count": null,
   "id": "528e7b6a",
   "metadata": {},
   "outputs": [],
   "source": []
  }
 ],
 "metadata": {
  "kernelspec": {
   "display_name": "Python 3 (ipykernel)",
   "language": "python",
   "name": "python3"
  },
  "language_info": {
   "codemirror_mode": {
    "name": "ipython",
    "version": 3
   },
   "file_extension": ".py",
   "mimetype": "text/x-python",
   "name": "python",
   "nbconvert_exporter": "python",
   "pygments_lexer": "ipython3",
   "version": "3.9.7"
  }
 },
 "nbformat": 4,
 "nbformat_minor": 5
}
