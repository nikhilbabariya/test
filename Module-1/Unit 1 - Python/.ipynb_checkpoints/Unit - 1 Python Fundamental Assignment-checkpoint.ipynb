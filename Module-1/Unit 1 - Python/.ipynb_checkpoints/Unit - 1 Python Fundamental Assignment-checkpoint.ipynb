{
 "cells": [
  {
   "cell_type": "code",
   "execution_count": 2,
   "id": "29823dbc",
   "metadata": {},
   "outputs": [
    {
     "name": "stdout",
     "output_type": "stream",
     "text": [
      "Please enter a temprature in farahnhit :- 98\n",
      "36.66666666666667\n"
     ]
    }
   ],
   "source": [
    "#covert far to cel\n",
    "\n",
    "far = int(input(\"Please enter a temprature in farahnhit :- \"))\n",
    "\n",
    "cel = ((far-32)*(5/9))\n",
    "print(cel)"
   ]
  },
  {
   "cell_type": "code",
   "execution_count": 8,
   "id": "237a928e",
   "metadata": {},
   "outputs": [
    {
     "name": "stdout",
     "output_type": "stream",
     "text": [
      "Please enter a Number 1 :- 22\n",
      "Please enter a Number 2 :- 09\n",
      "Before swapping\n",
      "A =  22\n",
      "B =  9\n",
      "after swapping\n",
      "A =  9\n",
      "B =  22\n"
     ]
    }
   ],
   "source": [
    "#swapping using \n",
    "\n",
    "a = int(input(\"Please enter a Number 1 :- \"))\n",
    "b = int(input(\"Please enter a Number 2 :- \"))\n",
    "\n",
    "print(\"Before swapping\")\n",
    "print(\"A = \",a)\n",
    "print(\"B = \",b)\n",
    "\n",
    "temp=a\n",
    "a=b\n",
    "b=temp\n",
    "\n",
    "print(\"after swapping\")\n",
    "print(\"A = \",a)\n",
    "print(\"B = \",b)"
   ]
  },
  {
   "cell_type": "code",
   "execution_count": 13,
   "id": "ee0738f1",
   "metadata": {},
   "outputs": [
    {
     "name": "stdout",
     "output_type": "stream",
     "text": [
      "Please enter a x1 point 1 :- 22\n",
      "Please enter a x2 point 1 :- 096\n",
      "Please enter a y1 point 2 :- 09\n",
      "Please enter a y2 point 2 :- 202\n"
     ]
    },
    {
     "ename": "TypeError",
     "evalue": "unsupported operand type(s) for ^: 'float' and 'float'",
     "output_type": "error",
     "traceback": [
      "\u001b[1;31m---------------------------------------------------------------------------\u001b[0m",
      "\u001b[1;31mTypeError\u001b[0m                                 Traceback (most recent call last)",
      "\u001b[1;32m~\\AppData\\Local\\Temp/ipykernel_3832/1440336717.py\u001b[0m in \u001b[0;36m<module>\u001b[1;34m\u001b[0m\n\u001b[0;32m      6\u001b[0m \u001b[0my2\u001b[0m \u001b[1;33m=\u001b[0m \u001b[0mfloat\u001b[0m\u001b[1;33m(\u001b[0m\u001b[0minput\u001b[0m\u001b[1;33m(\u001b[0m\u001b[1;34m\"Please enter a y2 point 2 :- \"\u001b[0m\u001b[1;33m)\u001b[0m\u001b[1;33m)\u001b[0m\u001b[1;33m\u001b[0m\u001b[1;33m\u001b[0m\u001b[0m\n\u001b[0;32m      7\u001b[0m \u001b[1;33m\u001b[0m\u001b[0m\n\u001b[1;32m----> 8\u001b[1;33m \u001b[0md\u001b[0m \u001b[1;33m=\u001b[0m  \u001b[1;33m(\u001b[0m\u001b[1;33m(\u001b[0m\u001b[0mx2\u001b[0m \u001b[1;33m-\u001b[0m \u001b[0mx1\u001b[0m\u001b[1;33m)\u001b[0m\u001b[1;33m^\u001b[0m\u001b[1;36m2\u001b[0m \u001b[1;33m+\u001b[0m \u001b[1;33m(\u001b[0m\u001b[0my2\u001b[0m \u001b[1;33m-\u001b[0m \u001b[0my1\u001b[0m\u001b[1;33m)\u001b[0m\u001b[1;33m^\u001b[0m\u001b[1;36m2\u001b[0m\u001b[1;33m)\u001b[0m\u001b[1;33m^\u001b[0m\u001b[1;36m0.5\u001b[0m\u001b[1;33m\u001b[0m\u001b[1;33m\u001b[0m\u001b[0m\n\u001b[0m\u001b[0;32m      9\u001b[0m \u001b[1;33m\u001b[0m\u001b[0m\n\u001b[0;32m     10\u001b[0m \u001b[0mprint\u001b[0m\u001b[1;33m(\u001b[0m\u001b[0md\u001b[0m\u001b[1;33m)\u001b[0m\u001b[1;33m\u001b[0m\u001b[1;33m\u001b[0m\u001b[0m\n",
      "\u001b[1;31mTypeError\u001b[0m: unsupported operand type(s) for ^: 'float' and 'float'"
     ]
    }
   ],
   "source": [
    "#distance betwwen two point\n",
    "\n",
    "x1 = float(input(\"Please enter a x1 point 1 :- \"))\n",
    "x2 = float(input(\"Please enter a x2 point 1 :- \"))\n",
    "y1 = float(input(\"Please enter a y1 point 2 :- \"))\n",
    "y2 = float(input(\"Please enter a y2 point 2 :- \"))\n",
    "\n",
    "d =  ((x2 - x1)^2 + (y2 - y1)^2)^0.5\n",
    "\n",
    "print(d)"
   ]
  },
  {
   "cell_type": "code",
   "execution_count": null,
   "id": "fb909f11",
   "metadata": {},
   "outputs": [],
   "source": []
  }
 ],
 "metadata": {
  "kernelspec": {
   "display_name": "Python 3 (ipykernel)",
   "language": "python",
   "name": "python3"
  },
  "language_info": {
   "codemirror_mode": {
    "name": "ipython",
    "version": 3
   },
   "file_extension": ".py",
   "mimetype": "text/x-python",
   "name": "python",
   "nbconvert_exporter": "python",
   "pygments_lexer": "ipython3",
   "version": "3.9.7"
  }
 },
 "nbformat": 4,
 "nbformat_minor": 5
}
